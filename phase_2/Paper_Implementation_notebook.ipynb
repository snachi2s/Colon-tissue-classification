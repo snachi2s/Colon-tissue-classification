{
  "cells": [
    {
      "cell_type": "markdown",
      "source": [
        "Paper implementation of \"Lung Cancer Classification in Histopathology Images Using Multiresolution Efficient Nets\"\n",
        "\n",
        "https://doi.org/10.1155/2023/7282944"
      ],
      "metadata": {
        "id": "Rf0duzX8GIAm"
      }
    },
    {
      "cell_type": "code",
      "execution_count": null,
      "metadata": {
        "id": "ES1nmjqQQco0"
      },
      "outputs": [],
      "source": [
        "!pip install torch torchvision timm tqdm"
      ]
    },
    {
      "cell_type": "code",
      "execution_count": null,
      "metadata": {
        "id": "zMCxPCjdQf0S"
      },
      "outputs": [],
      "source": [
        "import torch\n",
        "import torch.nn as nn\n",
        "import torch.optim as optim\n",
        "from torch.utils.data import DataLoader, random_split\n",
        "from torchvision import transforms, datasets\n",
        "import timm\n",
        "from tqdm import tqdm"
      ]
    },
    {
      "cell_type": "code",
      "execution_count": null,
      "metadata": {
        "id": "zyELqmJTQl9y"
      },
      "outputs": [],
      "source": [
        "# Define the device\n",
        "device = torch.device(\"cuda\" if torch.cuda.is_available() else \"cpu\")\n",
        "\n",
        "# Define your transforms\n",
        "transform = transforms.Compose([\n",
        "    transforms.Resize((224, 224)),   # For EfficientNetB0 --> 224x224\n",
        "    transforms.ToTensor(),\n",
        "    transforms.Normalize(mean=[0.485, 0.456, 0.406], std=[0.229, 0.224, 0.225])\n",
        "])"
      ]
    },
    {
      "cell_type": "code",
      "execution_count": null,
      "metadata": {
        "id": "H59YqV5HQvsD"
      },
      "outputs": [],
      "source": [
        "# Load dataset\n",
        "dataset = datasets.ImageFolder(root='F:\\Colon_Classifier\\data\\data', transform=transform)"
      ]
    },
    {
      "cell_type": "code",
      "execution_count": null,
      "metadata": {
        "id": "0XfWVl6BQ4Ma"
      },
      "outputs": [],
      "source": [
        "# Split the dataset into training and testing sets\n",
        "train_size = int(0.8 * len(dataset))\n",
        "test_size = len(dataset) - train_size\n",
        "train_dataset, test_dataset = random_split(dataset, [train_size, test_size])"
      ]
    },
    {
      "cell_type": "code",
      "execution_count": null,
      "metadata": {
        "id": "znXbii5YQ80q"
      },
      "outputs": [],
      "source": [
        "# Create DataLoader\n",
        "train_loader = DataLoader(train_dataset, batch_size=16, shuffle=True)\n",
        "test_loader = DataLoader(test_dataset, batch_size=10, shuffle=False)"
      ]
    },
    {
      "cell_type": "code",
      "execution_count": null,
      "metadata": {
        "id": "3sXa_3Y5RBij"
      },
      "outputs": [],
      "source": [
        "# Define the EfficientNet model\n",
        "model_name = 'efficientnet_b0'\n",
        "model = timm.create_model(model_name, pretrained=True)\n",
        "num_features = model.classifier.in_features\n",
        "model.classifier = nn.Sequential(\n",
        "    nn.Linear(num_features, 512),\n",
        "    nn.ReLU(),\n",
        "    nn.Linear(512, 128),\n",
        "    nn.ReLU(),\n",
        "    nn.Linear(128, len(dataset.classes)),\n",
        "    nn.Softmax(dim=1)  # Softmax layer for classification\n",
        ")"
      ]
    },
    {
      "cell_type": "code",
      "execution_count": null,
      "metadata": {
        "id": "HQhBERbaRHg5"
      },
      "outputs": [],
      "source": [
        "model.to(device)\n",
        "\n",
        "# Define loss function and optimizer\n",
        "criterion = nn.CrossEntropyLoss()\n",
        "optimizer = optim.Adam(model.parameters(), lr=0.0001)"
      ]
    },
    {
      "cell_type": "code",
      "execution_count": null,
      "metadata": {
        "id": "d9mUgVU5RMOF"
      },
      "outputs": [],
      "source": [
        "# Training loop\n",
        "num_epochs = 10                # In the paper all models are trained for 100 epochs\n",
        "for epoch in range(num_epochs):\n",
        "    model.train()\n",
        "    train_loss = 0.0\n",
        "    for inputs, labels in tqdm(train_loader, desc=f'Epoch {epoch + 1}/{num_epochs}'):\n",
        "        inputs, labels = inputs.to(device), labels.to(device)\n",
        "\n",
        "        optimizer.zero_grad()\n",
        "\n",
        "        outputs = model(inputs)\n",
        "        loss = criterion(outputs, labels)\n",
        "        loss.backward()\n",
        "        optimizer.step()\n",
        "\n",
        "        train_loss += loss.item()\n",
        "\n",
        "    # Calculate average training loss\n",
        "    avg_train_loss = train_loss / len(train_loader.dataset)\n",
        "    print(f'Training Loss: {avg_train_loss}')"
      ]
    },
    {
      "cell_type": "code",
      "execution_count": null,
      "metadata": {
        "colab": {
          "base_uri": "https://localhost:8080/"
        },
        "id": "Ftlf8I92RPpR",
        "outputId": "1d510cdf-5738-4447-c764-8e7dcc44dc84"
      },
      "outputs": [
        {
          "name": "stderr",
          "output_type": "stream",
          "text": [
            "Testing: 100%|██████████| 81/81 [00:05<00:00, 15.79it/s]\n"
          ]
        }
      ],
      "source": [
        "# Testing loop\n",
        "model.eval()\n",
        "correct = 0\n",
        "total = 0\n",
        "\n",
        "with torch.no_grad():\n",
        "    for inputs, labels in tqdm(test_loader, desc='Testing'):\n",
        "        inputs, labels = inputs.to(device), labels.to(device)\n",
        "\n",
        "        outputs = model(inputs)\n",
        "        _, predicted = torch.max(outputs, 1)\n",
        "\n",
        "        total += labels.size(0)\n",
        "        correct += (predicted == labels).sum().item()"
      ]
    },
    {
      "cell_type": "code",
      "execution_count": null,
      "metadata": {
        "colab": {
          "base_uri": "https://localhost:8080/"
        },
        "id": "IZ0QTIukRTtp",
        "outputId": "06b2d20b-4d3c-44af-d1e0-fa5aa99427ed"
      },
      "outputs": [
        {
          "name": "stdout",
          "output_type": "stream",
          "text": [
            "Test Accuracy: 81.49%\n"
          ]
        }
      ],
      "source": [
        "# Calculate accuracy\n",
        "accuracy = correct / total\n",
        "print(f'Test Accuracy: {accuracy * 100:.2f}%')"
      ]
    },
    {
      "cell_type": "code",
      "execution_count": null,
      "metadata": {
        "id": "12dqFpIDZu0C"
      },
      "outputs": [],
      "source": [
        "torch.save(model.state_dict(), 'paper_implementation.pth')"
      ]
    },
    {
      "cell_type": "code",
      "execution_count": null,
      "metadata": {
        "id": "-5l6KsW-bUy_"
      },
      "outputs": [],
      "source": [
        "################### Inference Script #######################################"
      ]
    },
    {
      "cell_type": "code",
      "execution_count": null,
      "metadata": {
        "id": "x-fygYSZbYuE"
      },
      "outputs": [],
      "source": [
        "import os\n",
        "import pandas as pd\n",
        "from torchvision import transforms\n",
        "from torch.utils.data import DataLoader\n",
        "from tqdm import tqdm\n",
        "from PIL import Image\n",
        "import torch\n",
        "import timm\n",
        "\n",
        "# Define transform for test images\n",
        "transform = transforms.Compose([\n",
        "    transforms.Resize((224, 224)),\n",
        "    transforms.ToTensor(),\n",
        "    transforms.Normalize(mean=[0.485, 0.456, 0.406], std=[0.229, 0.224, 0.225])\n",
        "])\n",
        "\n",
        "# Define the path to the folder containing test images\n",
        "test_folder = r'F:\\Colon_Classifier\\Colon-tissue-classification\\ism_project_2023\\ism_project_2023\\test'\n",
        "\n",
        "# Load the list of test images\n",
        "test_images = [os.path.join(test_folder, img) for img in os.listdir(test_folder)]\n",
        "\n",
        "# Initialize EfficientNet model\n",
        "model = timm.create_model('efficientnet_b0', pretrained=True)\n",
        "num_features = model.classifier.in_features\n",
        "model.classifier = nn.Sequential(\n",
        "    nn.Linear(num_features, 512),\n",
        "    nn.ReLU(),\n",
        "    nn.Linear(512, 128),\n",
        "    nn.ReLU(),\n",
        "    nn.Linear(128, len(dataset.classes)),\n",
        "    nn.Softmax(dim=1)  # Softmax layer for classification\n",
        ")\n",
        "\n",
        "# Final fully connected layer\n",
        "for name, module in model.named_modules():\n",
        "    if isinstance(module, torch.nn.Linear):\n",
        "        in_features = module.in_features\n",
        "        break\n",
        "\n",
        "\n",
        "\n",
        "# Load the trained model weights\n",
        "model.load_state_dict(torch.load(r'C:\\Users\\simon\\AppData\\Local\\Microsoft\\Windows\\INetCache\\IE\\ZVGOQXTB\\paper_implementation.pth'))\n",
        "\n",
        "# Set the model to evaluation mode\n",
        "model.eval()\n",
        "\n",
        "# Create a DataFrame to store predictions\n",
        "predictions_df = pd.DataFrame(columns=['Image', 'Prediction'])\n",
        "\n",
        "for image_path in tqdm(test_images, desc='Making Predictions', unit='image', leave=False):\n",
        "    # Load and preprocess the image\n",
        "    img = Image.open(image_path).convert('RGB')\n",
        "    img = transform(img)\n",
        "    img = img.unsqueeze(0)  # Add batch dimension\n",
        "\n",
        "    # Make the prediction\n",
        "    with torch.no_grad():\n",
        "        model_output = model(img)\n",
        "\n",
        "    # Get the predicted class\n",
        "    _, predicted_class = torch.max(model_output, 1)\n",
        "\n",
        "    # Extract the image filename\n",
        "    image_filename = os.path.basename(image_path)\n",
        "\n",
        "    # Append the prediction to the DataFrame\n",
        "    predictions_df = predictions_df.append({'Image': image_filename, 'Prediction': predicted_class.item()}, ignore_index=True)\n",
        "\n",
        "# Save the predictions to a CSV file\n",
        "predictions_df.to_csv('paper_predictions.csv', index=False)\n",
        "\n",
        "print(\"Predictions saved to 'predictions.csv'\")\n"
      ]
    },
    {
      "cell_type": "code",
      "execution_count": null,
      "metadata": {
        "id": "9VkrUdxNE1Z4"
      },
      "outputs": [],
      "source": [
        "import pandas as pd\n",
        "import torch\n",
        "import os\n",
        "from PIL import Image\n",
        "import torchvision.transforms as transforms\n",
        "import timm\n",
        "from tqdm import tqdm\n",
        "#from timm.models import hub\n",
        "\n",
        "DEVICE = torch.device(\"cuda\" if torch.cuda.is_available() else \"cpu\")\n",
        "TEST_IMG_DIR = r'F:\\Colon_Classifier\\Colon-tissue-classification\\ism_project_2023\\ism_project_2023\\test'\n",
        "MODEL_WEIGHTS_PATH = r'C:\\Users\\simon\\AppData\\Local\\Microsoft\\Windows\\INetCache\\IE\\ZVGOQXTB\\paper_implementation.pth'\n",
        "CSV_FILE = r\"F:\\Colon_Classifier\\Colon-tissue-classification\\ism_project_2023\\ism_project_2023\\test.csv\"\n",
        "model_name = 'efficientnet_b0'\n",
        "\n",
        "model = timm.create_model(model_name, pretrained=False, num_classes=4)\n",
        "num_features = model.classifier.in_features\n",
        "model.classifier = nn.Sequential(\n",
        "    nn.Linear(num_features, 512),\n",
        "    nn.ReLU(),\n",
        "    nn.Linear(512, 128),\n",
        "    nn.ReLU(),\n",
        "    nn.Linear(128, len(dataset.classes)),\n",
        "    nn.Softmax(dim=1)  # Softmax layer for classification\n",
        ")\n",
        "model.load_state_dict(torch.load(MODEL_WEIGHTS_PATH))\n",
        "# model_cfg = dict(labels=['normal tissue', 'serrated lesion', 'adenocarcinoma', 'adenoma'])\n",
        "# hub.push_to_hf_hub(model, model_name, model_config=model_cfg)\n",
        "model.to(DEVICE)\n",
        "model.eval()\n",
        "\n",
        "print(\"INFO: MODEL LOADED !!!\")\n",
        "\n",
        "transform = transforms.Compose([\n",
        "    transforms.Resize((224,224)),\n",
        "    transforms.ToTensor(),\n",
        "    transforms.Normalize(mean=[0.485, 0.456, 0.406],\n",
        "                         std=[0.229, 0.224, 0.225])\n",
        "])\n",
        "\n",
        "def predict(image_path, model, transform):\n",
        "    image = Image.open(image_path).convert('RGB')\n",
        "    image = transform(image).unsqueeze(0) #add batch dimension\n",
        "    image = image.to(DEVICE)\n",
        "    with torch.no_grad():\n",
        "        output = model(image)\n",
        "        probabilities = torch.nn.functional.softmax(output[0], dim=0)\n",
        "        predicted_class = probabilities.argmax().item()\n",
        "    return int(predicted_class)\n",
        "\n",
        "df = pd.read_csv(CSV_FILE)\n",
        "\n",
        "for index, row in tqdm(df.iterrows(), total=len(df)):\n",
        "    image_name = row['name']\n",
        "    image_path = os.path.join(TEST_IMG_DIR, image_name + '.jpg')\n",
        "    predicted_class = predict(image_path, model, transform)\n",
        "    df.at[index, 'label'] = predicted_class\n",
        "\n",
        "df['label'] = df['label'].astype(int)\n",
        "df.to_csv('predictions.csv',index=False)"
      ]
    },
    {
      "cell_type": "code",
      "execution_count": null,
      "metadata": {
        "id": "P4LAqjQrE1Z5"
      },
      "outputs": [],
      "source": [
        "import pandas as pd\n",
        "csv = pd.read_csv('predictions.csv')\n",
        "print(csv['label'].value_counts())"
      ]
    },
    {
      "cell_type": "code",
      "execution_count": null,
      "metadata": {
        "id": "hlfx-wF7E1Z6"
      },
      "outputs": [],
      "source": [
        "!pip install pandas"
      ]
    }
  ],
  "metadata": {
    "accelerator": "TPU",
    "colab": {
      "provenance": []
    },
    "kernelspec": {
      "display_name": "Python 3",
      "name": "python3"
    },
    "language_info": {
      "codemirror_mode": {
        "name": "ipython",
        "version": 3
      },
      "file_extension": ".py",
      "mimetype": "text/x-python",
      "name": "python",
      "nbconvert_exporter": "python",
      "pygments_lexer": "ipython3",
      "version": "3.11.0"
    }
  },
  "nbformat": 4,
  "nbformat_minor": 0
}